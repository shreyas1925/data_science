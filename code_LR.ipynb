{
  "nbformat": 4,
  "nbformat_minor": 0,
  "metadata": {
    "colab": {
      "provenance": [],
      "authorship_tag": "ABX9TyOvPU2aPEblu0MiQ7LV8irx",
      "include_colab_link": true
    },
    "kernelspec": {
      "name": "python3",
      "display_name": "Python 3"
    },
    "language_info": {
      "name": "python"
    }
  },
  "cells": [
    {
      "cell_type": "markdown",
      "metadata": {
        "id": "view-in-github",
        "colab_type": "text"
      },
      "source": [
        "<a href=\"https://colab.research.google.com/github/shreyas1925/data_science/blob/master/code_LR.ipynb\" target=\"_parent\"><img src=\"https://colab.research.google.com/assets/colab-badge.svg\" alt=\"Open In Colab\"/></a>"
      ]
    },
    {
      "cell_type": "code",
      "execution_count": 2,
      "metadata": {
        "colab": {
          "base_uri": "https://localhost:8080/"
        },
        "id": "Ko_Ewc-P4WP0",
        "outputId": "3b6f3100-0b99-4088-bf80-11cf42d31907"
      },
      "outputs": [
        {
          "output_type": "stream",
          "name": "stdout",
          "text": [
            "Mounted at /content/drive\n"
          ]
        }
      ],
      "source": [
        "from google.colab import drive\n",
        "drive.mount('/content/drive')"
      ]
    },
    {
      "cell_type": "code",
      "source": [
        "import numpy as np\n",
        "\n",
        "data = np.loadtxt(\"/content/drive/MyDrive/data.csv\",delimiter=',')\n",
        "\n",
        "data.shape"
      ],
      "metadata": {
        "colab": {
          "base_uri": "https://localhost:8080/"
        },
        "id": "KdyzMmNn6M1e",
        "outputId": "9c89b74f-536b-41ac-f0da-c027be5f9808"
      },
      "execution_count": 3,
      "outputs": [
        {
          "output_type": "execute_result",
          "data": {
            "text/plain": [
              "(100, 2)"
            ]
          },
          "metadata": {},
          "execution_count": 3
        }
      ]
    },
    {
      "cell_type": "code",
      "source": [
        "X = data[:,0] # we can write code for 1D array\n",
        "Y = data[:,1]\n"
      ],
      "metadata": {
        "id": "pBrDxJQZ6UBs"
      },
      "execution_count": 4,
      "outputs": []
    },
    {
      "cell_type": "code",
      "source": [
        "from sklearn import model_selection\n",
        "X_train,X_test,Y_train,Y_test = model_selection.train_test_split(X,Y,test_size=0.3)"
      ],
      "metadata": {
        "id": "OOar2H9G6Z3d"
      },
      "execution_count": 16,
      "outputs": []
    },
    {
      "cell_type": "code",
      "source": [
        "X_train.shape"
      ],
      "metadata": {
        "colab": {
          "base_uri": "https://localhost:8080/"
        },
        "id": "s8JVCG8Q6xLp",
        "outputId": "f9aa82b6-9e7a-485c-be67-ba1bb22e8c27"
      },
      "execution_count": 17,
      "outputs": [
        {
          "output_type": "execute_result",
          "data": {
            "text/plain": [
              "(70,)"
            ]
          },
          "metadata": {},
          "execution_count": 17
        }
      ]
    },
    {
      "cell_type": "code",
      "source": [
        "def fit(X_train,Y_train):\n",
        "  \n",
        "  num = (X_train*Y_train).mean() - X_train.mean()*Y_train.mean()\n",
        "  den = (X_train**2).mean() - X_train.mean()**2\n",
        "\n",
        "  m = num/den\n",
        "\n",
        "  c = Y_train.mean() - m * X_train.mean()\n",
        "\n",
        "  return m,c"
      ],
      "metadata": {
        "id": "o_JqtO2u6yrq"
      },
      "execution_count": 18,
      "outputs": []
    },
    {
      "cell_type": "code",
      "source": [
        "def predict(x,m,c):\n",
        "  return m*x+c\n",
        "\n",
        "def score(Y_truth,Y_pred):\n",
        "  u = ((Y_truth - Y_pred)**2).sum()\n",
        "  v = ((Y_truth - Y_truth.mean())**2).sum()\n",
        "  return 1-u/v\n",
        "\n",
        "def cost(x,y,m,c):\n",
        "  return ((y-m*x-c)**2).mean()\n"
      ],
      "metadata": {
        "id": "O8-2GoCF836W"
      },
      "execution_count": 19,
      "outputs": []
    },
    {
      "cell_type": "code",
      "source": [
        "m,c = fit(X_train,Y_train)\n",
        "\n",
        "print(\"Values of M and C \" ,m,c)\n",
        "\n",
        "# this is on test data\n",
        "Y_test_pred = predict(X_test,m,c)\n",
        "print(\"Test Score is \" ,score(Y_test,Y_test_pred ))\n",
        "\n",
        "# this is on train data\n",
        "Y_train_pred = predict(X_train,m,c)\n",
        "print(\"Train Score is \" ,score(Y_train,Y_train_pred ))\n",
        "\n",
        "print(\"Cost is \",cost(X_train,Y_train,m,c))"
      ],
      "metadata": {
        "colab": {
          "base_uri": "https://localhost:8080/"
        },
        "id": "I-gWe8nf8Lob",
        "outputId": "4f550b68-f632-4f33-ae1e-c4d46315dd5c"
      },
      "execution_count": 20,
      "outputs": [
        {
          "output_type": "stream",
          "name": "stdout",
          "text": [
            "Values of M and C  1.3825605499728664 4.793125493296159\n",
            "Test Score is  0.6693861551842761\n",
            "Train Score is  0.5676591395521282\n",
            "Cost is  120.43521067384474\n"
          ]
        }
      ]
    },
    {
      "cell_type": "code",
      "source": [],
      "metadata": {
        "id": "opG4NYEv8kTp"
      },
      "execution_count": null,
      "outputs": []
    }
  ]
}